{
  "cells": [
    {
      "attachments": {},
      "cell_type": "markdown",
      "metadata": {},
      "source": [
        "## Задание 6. Нейронная сеть (цифры)\n",
        "\n",
        "Используя небольшой встроенный набор, загружаемый с помощью\n",
        "\n",
        "`X, y = datasets.load_digits(return_X_y=True)`\n",
        "\n",
        "продемонстрируйте:\n",
        "\n",
        "1. обучение и работу многоклассовой классификации,\n",
        "2. бинарной классификации на чётные и нечётные цифры,\n",
        "3. бинарной классификации на '0' и остальные цифры (приведите примеры, когда классификатор ошибается),\n",
        "4. *проиллюстрируйте советы по использованию многослойного персептрона. (https://scikit-learn.org/stable/modules/neural_networks_supervised.html#tips-on-practical-use)"
      ]
    },
    {
      "cell_type": "code",
      "execution_count": 1,
      "metadata": {
        "id": "HYfz-_ojRwAH"
      },
      "outputs": [],
      "source": [
        "import numpy as np\n",
        "SEED = 42\n",
        "\n",
        "def warn(*args, **kwargs):\n",
        "    pass\n",
        "import warnings\n",
        "warnings.warn = warn"
      ]
    },
    {
      "attachments": {},
      "cell_type": "markdown",
      "metadata": {
        "id": "NS_WE8zGaPJh"
      },
      "source": [
        "# Загружаем датасет"
      ]
    },
    {
      "cell_type": "code",
      "execution_count": 2,
      "metadata": {
        "id": "nJD05a6WUjg7"
      },
      "outputs": [],
      "source": [
        "from sklearn import datasets\n",
        "X_orig, y_orig = datasets.load_digits(return_X_y=True)"
      ]
    },
    {
      "cell_type": "code",
      "execution_count": 3,
      "metadata": {
        "id": "BB_q4DxkdRzs"
      },
      "outputs": [],
      "source": [
        "from sklearn.metrics import f1_score, accuracy_score\n",
        "\n",
        "def nn_clf_score(y_true, y_pred):\n",
        "    print(f\"Accuracy: {accuracy_score(y_true, y_pred)}\")\n",
        "    print(f\"F1 score: {f1_score(y_true, y_pred, average=None)}\")"
      ]
    },
    {
      "attachments": {},
      "cell_type": "markdown",
      "metadata": {
        "id": "VThRcazQaVTP"
      },
      "source": [
        "# Многоклассовая классификация"
      ]
    },
    {
      "cell_type": "code",
      "execution_count": 4,
      "metadata": {
        "id": "Nb8SBjcSZkif"
      },
      "outputs": [],
      "source": [
        "from sklearn.model_selection import train_test_split\n",
        "\n",
        "X_train, X_test, y_train, y_test = train_test_split(X_orig.copy(), y_orig.copy(), test_size=0.3, random_state=SEED)"
      ]
    },
    {
      "cell_type": "code",
      "execution_count": 5,
      "metadata": {
        "colab": {
          "base_uri": "https://localhost:8080/"
        },
        "id": "keoyOD4HZe2B",
        "outputId": "30810a3b-e27a-4975-cde6-367022613161"
      },
      "outputs": [
        {
          "name": "stdout",
          "output_type": "stream",
          "text": [
            "Accuracy: 0.9666666666666667\n",
            "F1 score: [0.98113208 0.96969697 0.96907216 0.96153846 1.         0.94573643\n",
            " 0.98113208 0.98181818 0.90909091 0.95867769]\n"
          ]
        }
      ],
      "source": [
        "from sklearn.neural_network import MLPClassifier\n",
        "\n",
        "clf = MLPClassifier(random_state=SEED, max_iter=500)\n",
        "clf.fit(X_train, y_train)\n",
        "y_pred = clf.predict(X_test)\n",
        "nn_clf_score(y_test, y_pred)\n"
      ]
    },
    {
      "attachments": {},
      "cell_type": "markdown",
      "metadata": {
        "id": "sBbnb38Yaaiq"
      },
      "source": [
        "# Бинарная классификация (чётность)"
      ]
    },
    {
      "cell_type": "code",
      "execution_count": 6,
      "metadata": {
        "colab": {
          "base_uri": "https://localhost:8080/"
        },
        "id": "Mlfs5A0ja0wg",
        "outputId": "533748ba-ccf5-4948-b265-ccdff66d443b"
      },
      "outputs": [
        {
          "data": {
            "text/plain": [
              "array([1, 0, 1, ..., 1, 0, 1])"
            ]
          },
          "execution_count": 6,
          "metadata": {},
          "output_type": "execute_result"
        }
      ],
      "source": [
        "y = (y_orig % 2 == 0).astype(int)\n",
        "y"
      ]
    },
    {
      "cell_type": "code",
      "execution_count": 7,
      "metadata": {
        "id": "xKCDzlpYbIZl"
      },
      "outputs": [],
      "source": [
        "from sklearn.model_selection import train_test_split\n",
        "\n",
        "X_train, X_test, y_train, y_test = train_test_split(X_orig.copy(), y, test_size=0.3, random_state=SEED)"
      ]
    },
    {
      "cell_type": "code",
      "execution_count": 8,
      "metadata": {
        "colab": {
          "base_uri": "https://localhost:8080/"
        },
        "id": "yYFIOZROazhQ",
        "outputId": "175df950-5e23-4571-d762-7bf16adbd18a"
      },
      "outputs": [
        {
          "name": "stdout",
          "output_type": "stream",
          "text": [
            "Accuracy: 0.9814814814814815\n",
            "F1 score: [0.98214286 0.98076923]\n"
          ]
        }
      ],
      "source": [
        "from sklearn.neural_network import MLPClassifier\n",
        "\n",
        "clf = MLPClassifier(random_state=SEED, max_iter=500)\n",
        "clf.fit(X_train, y_train)\n",
        "y_pred = clf.predict(X_test)\n",
        "nn_clf_score(y_test, y_pred)"
      ]
    },
    {
      "attachments": {},
      "cell_type": "markdown",
      "metadata": {
        "id": "HZq9fXpRbnbC"
      },
      "source": [
        "# Бинарная классификация (равенство 0)"
      ]
    },
    {
      "cell_type": "code",
      "execution_count": 9,
      "metadata": {
        "colab": {
          "base_uri": "https://localhost:8080/"
        },
        "id": "9yde9t7jbu2P",
        "outputId": "97ec3768-ecef-497d-fd44-f2a79e0eed7b"
      },
      "outputs": [
        {
          "data": {
            "text/plain": [
              "array([1, 0, 0, ..., 0, 0, 0])"
            ]
          },
          "execution_count": 9,
          "metadata": {},
          "output_type": "execute_result"
        }
      ],
      "source": [
        "y = (y_orig == 0).astype(int)\n",
        "y"
      ]
    },
    {
      "cell_type": "code",
      "execution_count": 10,
      "metadata": {
        "id": "cpiRdK-pbw2D"
      },
      "outputs": [],
      "source": [
        "from sklearn.model_selection import train_test_split\n",
        "\n",
        "X_train, X_test, y_train, y_test = train_test_split(X_orig.copy(), y, test_size=0.3, random_state=SEED)"
      ]
    },
    {
      "cell_type": "code",
      "execution_count": 11,
      "metadata": {
        "colab": {
          "base_uri": "https://localhost:8080/"
        },
        "id": "5UBThB90byJG",
        "outputId": "122512ce-a4d5-4ab3-abdd-435e20f423d5"
      },
      "outputs": [
        {
          "name": "stdout",
          "output_type": "stream",
          "text": [
            "Accuracy: 0.9981481481481481\n",
            "F1 score: [0.99897436 0.99047619]\n"
          ]
        }
      ],
      "source": [
        "from sklearn.neural_network import MLPClassifier\n",
        "\n",
        "clf = MLPClassifier(random_state=SEED, max_iter=500)\n",
        "clf.fit(X_train, y_train)\n",
        "y_pred = clf.predict(X_test)\n",
        "nn_clf_score(y_test, y_pred)"
      ]
    },
    {
      "attachments": {},
      "cell_type": "markdown",
      "metadata": {
        "id": "5gCuSIVBcnW9"
      },
      "source": [
        "# Пробуем советы"
      ]
    },
    {
      "attachments": {},
      "cell_type": "markdown",
      "metadata": {
        "id": "pQhsBbMEe3y7"
      },
      "source": [
        "1. Multi-layer Perceptron is sensitive to feature scaling, so it is highly recommended to scale your data. For example, scale each attribute on the input vector X to [0, 1] or [-1, +1], or standardize it to have mean 0 and variance 1. Note that you must apply the same scaling to the test set for meaningful results. You can use StandardScaler for standardization.\n",
        "\n",
        "2. Finding $\\alpha$ reasonable regularization parameter is best done using GridSearchCV, usually in the range 10.0 ** -np.arange(1, 7).\n",
        "\n",
        "3. Empirically, we observed that L-BFGS converges faster and with better solutions on small datasets. For relatively large datasets, however, Adam is very robust. It usually converges quickly and gives pretty good performance. SGD with momentum or nesterov’s momentum, on the other hand, can perform better than those two algorithms if learning rate is correctly tuned."
      ]
    },
    {
      "attachments": {},
      "cell_type": "markdown",
      "metadata": {
        "id": "cg3f4WujfsDU"
      },
      "source": [
        "## 1. Преобразование диапазона яркости из [0-16] в [0-1]"
      ]
    },
    {
      "cell_type": "code",
      "execution_count": 12,
      "metadata": {
        "colab": {
          "base_uri": "https://localhost:8080/"
        },
        "id": "bxVpRE7bg7Ub",
        "outputId": "3f5bb695-6977-4348-f41d-b95f04b33035"
      },
      "outputs": [
        {
          "data": {
            "text/plain": [
              "(0.0, 16.0)"
            ]
          },
          "execution_count": 12,
          "metadata": {},
          "output_type": "execute_result"
        }
      ],
      "source": [
        "X_orig.min(), X_orig.max()"
      ]
    },
    {
      "cell_type": "code",
      "execution_count": 13,
      "metadata": {
        "colab": {
          "base_uri": "https://localhost:8080/"
        },
        "id": "yjBHp5jOf-Bp",
        "outputId": "920ad57e-f469-4eb9-a390-70fbcd871e52"
      },
      "outputs": [
        {
          "data": {
            "text/plain": [
              "(0.0, 1.0)"
            ]
          },
          "execution_count": 13,
          "metadata": {},
          "output_type": "execute_result"
        }
      ],
      "source": [
        "X = X_orig.astype(float) / 16\n",
        "X.min(), X.max()"
      ]
    },
    {
      "cell_type": "code",
      "execution_count": 14,
      "metadata": {
        "id": "XySWm4cKf6Mx"
      },
      "outputs": [],
      "source": [
        "from sklearn.model_selection import train_test_split\n",
        "\n",
        "X_train, X_test, y_train, y_test = train_test_split(X, y_orig.copy(), test_size=0.3, random_state=SEED)"
      ]
    },
    {
      "cell_type": "code",
      "execution_count": 15,
      "metadata": {
        "colab": {
          "base_uri": "https://localhost:8080/"
        },
        "id": "P6eyLXXUgppX",
        "outputId": "c7f7ee65-728a-4d91-eb10-47f80082fbb8"
      },
      "outputs": [
        {
          "name": "stdout",
          "output_type": "stream",
          "text": [
            "Accuracy: 0.9796296296296296\n",
            "F1 score: [1.         0.98       1.         0.98113208 1.         0.95454545\n",
            " 0.98113208 0.98181818 0.94382022 0.97435897]\n"
          ]
        }
      ],
      "source": [
        "from sklearn.neural_network import MLPClassifier\n",
        "\n",
        "clf = MLPClassifier(random_state=SEED, max_iter=500)\n",
        "clf.fit(X_train, y_train)\n",
        "y_pred = clf.predict(X_test)\n",
        "nn_clf_score(y_test, y_pred)"
      ]
    },
    {
      "attachments": {},
      "cell_type": "markdown",
      "metadata": {
        "id": "AXnm7VTdhBzY"
      },
      "source": [
        "Улучшения налицо (было 0.96)"
      ]
    },
    {
      "attachments": {},
      "cell_type": "markdown",
      "metadata": {
        "id": "nUnkYkqJqmpl"
      },
      "source": [
        "## 3. Выбор метода обучения"
      ]
    },
    {
      "cell_type": "code",
      "execution_count": 16,
      "metadata": {
        "colab": {
          "base_uri": "https://localhost:8080/"
        },
        "id": "XS1TAJyWq-YV",
        "outputId": "c5f72184-9d45-4470-8ebb-9cc550660aa6"
      },
      "outputs": [
        {
          "name": "stdout",
          "output_type": "stream",
          "text": [
            "### Solver: lbfgs\n",
            "Accuracy: 0.9611111111111111\n",
            "F1 score: [0.97142857 0.95049505 0.95833333 0.95412844 0.99159664 0.94656489\n",
            " 0.98113208 0.97247706 0.90909091 0.96551724]\n",
            "### Solver: sgd\n",
            "Accuracy: 0.9518518518518518\n",
            "F1 score: [0.98113208 0.89795918 1.         0.96226415 0.95081967 0.94656489\n",
            " 0.98113208 0.98181818 0.8988764  0.91525424]\n",
            "### Solver: adam\n",
            "Accuracy: 0.9796296296296296\n",
            "F1 score: [1.         0.98       1.         0.98113208 1.         0.95454545\n",
            " 0.98113208 0.98181818 0.94382022 0.97435897]\n"
          ]
        }
      ],
      "source": [
        "for solver in ['lbfgs', 'sgd', 'adam']:\n",
        "    clf = MLPClassifier(solver=solver, random_state=SEED, max_iter=500)\n",
        "    clf.fit(X_train, y_train)\n",
        "    y_pred = clf.predict(X_test)\n",
        "    print(f\"### Solver: {solver}\")\n",
        "    nn_clf_score(y_test, y_pred)"
      ]
    },
    {
      "attachments": {},
      "cell_type": "markdown",
      "metadata": {
        "id": "7VLf1eIihK9S"
      },
      "source": [
        "## 2. Подбор $\\alpha$ -- регулязиционного параметра"
      ]
    },
    {
      "cell_type": "code",
      "execution_count": 17,
      "metadata": {
        "colab": {
          "base_uri": "https://localhost:8080/"
        },
        "id": "rAnAhv5_h3O2",
        "outputId": "fb279b68-0c32-4760-d2cf-cfa50cb84bfc"
      },
      "outputs": [
        {
          "name": "stdout",
          "output_type": "stream",
          "text": [
            "Best params: {'alpha': 0.1, 'max_iter': 500, 'random_state': 42, 'solver': 'lbfgs'}\n",
            "Accuracy: 0.9814814814814815\n",
            "F1 score: [1.         0.99009901 1.         0.98113208 1.         0.95454545\n",
            " 0.98113208 0.99082569 0.95454545 0.96610169]\n"
          ]
        }
      ],
      "source": [
        "from sklearn.model_selection import GridSearchCV\n",
        "\n",
        "params = {\n",
        "    'solver': ['lbfgs'],\n",
        "    'alpha': np.power(10.0, np.arange(-10.0, 7.0)),\n",
        "    'random_state': [SEED],\n",
        "    'max_iter': [500]\n",
        "    }\n",
        "mlp = MLPClassifier()\n",
        "clf = GridSearchCV(mlp, params)\n",
        "clf.fit(X_train, y_train)\n",
        "\n",
        "print(f\"Best params: {clf.best_params_}\")\n",
        "y_pred = clf.predict(X_test)\n",
        "nn_clf_score(y_test, y_pred)"
      ]
    }
  ],
  "metadata": {
    "colab": {
      "provenance": []
    },
    "gpuClass": "standard",
    "kernelspec": {
      "display_name": "Python 3",
      "name": "python3"
    },
    "language_info": {
      "codemirror_mode": {
        "name": "ipython",
        "version": 3
      },
      "file_extension": ".py",
      "mimetype": "text/x-python",
      "name": "python",
      "nbconvert_exporter": "python",
      "pygments_lexer": "ipython3",
      "version": "3.11.3"
    }
  },
  "nbformat": 4,
  "nbformat_minor": 0
}
